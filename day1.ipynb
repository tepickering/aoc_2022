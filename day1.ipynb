{
 "cells": [
  {
   "cell_type": "code",
   "execution_count": 9,
   "metadata": {},
   "outputs": [],
   "source": [
    "from aocd import get_data\n",
    "import numpy as np"
   ]
  },
  {
   "cell_type": "code",
   "execution_count": 2,
   "metadata": {},
   "outputs": [],
   "source": [
    "data = get_data(day=1, year=2022)"
   ]
  },
  {
   "cell_type": "code",
   "execution_count": 4,
   "metadata": {},
   "outputs": [],
   "source": [
    "test = \"1000\\n2000\\n3000\\n\\n4000\\n\\n5000\\n6000\\n\\n7000\\n8000\\n9000\\n\\n10000\""
   ]
  },
  {
   "cell_type": "code",
   "execution_count": 7,
   "metadata": {},
   "outputs": [
    {
     "data": {
      "text/plain": [
       "['1000\\n2000\\n3000', '4000', '5000\\n6000', '7000\\n8000\\n9000', '10000']"
      ]
     },
     "execution_count": 7,
     "metadata": {},
     "output_type": "execute_result"
    }
   ],
   "source": [
    "test.split('\\n\\n')"
   ]
  },
  {
   "cell_type": "code",
   "execution_count": 13,
   "metadata": {},
   "outputs": [
    {
     "data": {
      "text/plain": [
       "68802"
      ]
     },
     "execution_count": 13,
     "metadata": {},
     "output_type": "execute_result"
    }
   ],
   "source": [
    "np.array([np.array(i.split('\\n'), dtype=int).sum() for i in data.split('\\n\\n')]).max()"
   ]
  },
  {
   "attachments": {},
   "cell_type": "markdown",
   "metadata": {},
   "source": [
    "Part 2"
   ]
  },
  {
   "cell_type": "code",
   "execution_count": 24,
   "metadata": {},
   "outputs": [
    {
     "data": {
      "text/plain": [
       "array([ 1338,  3516,  7586,  9975, 11866, 12346, 14031, 15426, 16520,\n",
       "       17850, 19068, 20013, 22002, 23105, 23783, 24122, 26920, 27291,\n",
       "       27966, 28147, 28244, 28629, 28846, 29698, 29702, 30181, 30332,\n",
       "       31354, 31591, 32901, 33835, 33990, 34322, 34782, 35028, 35438,\n",
       "       35455, 36434, 36440, 36444, 36683, 37112, 37390, 37455, 37781,\n",
       "       38466, 38810, 39499, 39550, 39626, 39719, 39846, 39867, 39893,\n",
       "       39927, 39986, 40044, 40154, 40274, 40404, 40425, 40667, 40771,\n",
       "       40798, 41143, 41407, 41422, 41605, 41992, 42303, 42557, 42626,\n",
       "       42810, 43056, 43094, 43114, 43279, 43452, 43800, 43814, 43857,\n",
       "       43875, 43921, 43997, 44207, 44534, 44536, 44544, 44672, 44716,\n",
       "       44858, 44863, 44919, 45185, 45217, 45392, 45453, 45511, 45605,\n",
       "       45652, 45738, 45783, 45826, 45917, 45991, 46006, 46038, 46299,\n",
       "       46507, 46516, 46818, 46997, 47029, 47167, 47297, 47389, 47463,\n",
       "       47540, 47646, 47707, 47761, 47784, 47988, 47989, 48571, 49036,\n",
       "       49052, 49254, 49335, 49510, 49515, 49536, 49569, 49613, 49713,\n",
       "       49727, 49790, 49790, 49860, 49866, 49894, 49919, 50252, 50299,\n",
       "       50348, 50466, 50654, 50659, 50811, 50862, 50959, 50988, 51071,\n",
       "       51093, 51204, 51515, 51520, 51537, 51678, 51806, 51855, 51889,\n",
       "       51931, 51977, 52058, 52171, 52468, 52508, 52521, 52588, 52730,\n",
       "       52739, 52788, 52832, 52881, 53014, 53173, 53362, 53364, 53379,\n",
       "       53411, 53423, 53492, 53558, 53672, 53706, 53722, 53871, 53916,\n",
       "       53938, 54039, 54437, 54438, 54573, 54724, 54741, 54784, 54807,\n",
       "       54876, 54935, 54937, 54953, 55048, 55520, 55779, 55946, 56022,\n",
       "       56045, 56355, 56371, 56755, 56814, 56829, 56874, 57029, 57033,\n",
       "       57110, 57361, 57450, 57465, 57682, 57757, 57841, 58126, 58355,\n",
       "       58405, 58559, 58857, 58945, 59201, 59426, 59696, 59782, 59886,\n",
       "       59899, 59999, 60198, 60291, 60748, 60899, 61161, 61469, 61598,\n",
       "       61840, 61958, 63423, 63572, 63590, 67022, 67860, 68708, 68802])"
      ]
     },
     "execution_count": 24,
     "metadata": {},
     "output_type": "execute_result"
    }
   ],
   "source": [
    "cal_arr = np.array([np.array(i.split('\\n'), dtype=int).sum() for i in data.split('\\n\\n')])\n",
    "cal_arr.sort()\n",
    "cal_arr"
   ]
  },
  {
   "cell_type": "code",
   "execution_count": 25,
   "metadata": {},
   "outputs": [
    {
     "data": {
      "text/plain": [
       "205370"
      ]
     },
     "execution_count": 25,
     "metadata": {},
     "output_type": "execute_result"
    }
   ],
   "source": [
    "cal_arr[-3:].sum()"
   ]
  },
  {
   "cell_type": "code",
   "execution_count": 21,
   "metadata": {},
   "outputs": [],
   "source": [
    "cal_arr"
   ]
  },
  {
   "cell_type": "code",
   "execution_count": null,
   "metadata": {},
   "outputs": [],
   "source": []
  }
 ],
 "metadata": {
  "kernelspec": {
   "display_name": "aoc",
   "language": "python",
   "name": "python3"
  },
  "language_info": {
   "codemirror_mode": {
    "name": "ipython",
    "version": 3
   },
   "file_extension": ".py",
   "mimetype": "text/x-python",
   "name": "python",
   "nbconvert_exporter": "python",
   "pygments_lexer": "ipython3",
   "version": "3.10.8"
  },
  "orig_nbformat": 4,
  "vscode": {
   "interpreter": {
    "hash": "271b2ffbb20ee5f82a4330be2b3e949b7f626019eb19c1caaa1959595d0322db"
   }
  }
 },
 "nbformat": 4,
 "nbformat_minor": 2
}
