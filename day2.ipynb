{
 "cells": [
  {
   "cell_type": "code",
   "execution_count": 1,
   "metadata": {},
   "outputs": [],
   "source": [
    "from aocd import get_data\n",
    "import numpy as np"
   ]
  },
  {
   "cell_type": "code",
   "execution_count": 2,
   "metadata": {},
   "outputs": [],
   "source": [
    "data = get_data(day=2, year=2022)"
   ]
  },
  {
   "cell_type": "code",
   "execution_count": 15,
   "metadata": {},
   "outputs": [
    {
     "name": "stdout",
     "output_type": "stream",
     "text": [
      "A Y\n",
      "B X\n",
      "C Z\n"
     ]
    }
   ],
   "source": [
    "test = \"\"\"A Y\n",
    "B X\n",
    "C Z\"\"\"\n",
    "print(test)"
   ]
  },
  {
   "cell_type": "code",
   "execution_count": 10,
   "metadata": {},
   "outputs": [],
   "source": [
    "charmap = {\n",
    "    'A': 'r',\n",
    "    'B': 'p',\n",
    "    'C': 's',\n",
    "    'X': 'r',\n",
    "    'Y': 'p',\n",
    "    'Z': 's'\n",
    "}\n",
    "points = {\n",
    "    'r': 1,\n",
    "    'p': 2,\n",
    "    's': 3\n",
    "}\n",
    "\n",
    "def play(opp, player):\n",
    "    opp = charmap[opp]\n",
    "    player = charmap[player]\n",
    "    score = points[player]\n",
    "    match opp:\n",
    "        case 'r':\n",
    "            match player:\n",
    "                case 'r':\n",
    "                    score += 3\n",
    "                case 'p':\n",
    "                    score += 6\n",
    "        case 'p':\n",
    "            match player:\n",
    "                case 'p':\n",
    "                    score += 3\n",
    "                case 's':\n",
    "                    score += 6\n",
    "        case 's':\n",
    "            match player:\n",
    "                case 's':\n",
    "                    score += 3\n",
    "                case 'r':\n",
    "                    score += 6\n",
    "    return score"
   ]
  },
  {
   "cell_type": "code",
   "execution_count": 13,
   "metadata": {},
   "outputs": [
    {
     "data": {
      "text/plain": [
       "6"
      ]
     },
     "execution_count": 13,
     "metadata": {},
     "output_type": "execute_result"
    }
   ],
   "source": [
    "play('C', 'Z')"
   ]
  },
  {
   "cell_type": "code",
   "execution_count": 29,
   "metadata": {},
   "outputs": [],
   "source": [
    "tot_score = 0\n",
    "plays = [i.split() for i in data.split('\\n')]"
   ]
  },
  {
   "cell_type": "code",
   "execution_count": 24,
   "metadata": {},
   "outputs": [],
   "source": [
    "for p in plays:\n",
    "    tot_score += play(p[0], p[1])"
   ]
  },
  {
   "cell_type": "code",
   "execution_count": 25,
   "metadata": {},
   "outputs": [
    {
     "data": {
      "text/plain": [
       "13221"
      ]
     },
     "execution_count": 25,
     "metadata": {},
     "output_type": "execute_result"
    }
   ],
   "source": [
    "tot_score"
   ]
  },
  {
   "attachments": {},
   "cell_type": "markdown",
   "metadata": {},
   "source": [
    "part 2"
   ]
  },
  {
   "cell_type": "code",
   "execution_count": 26,
   "metadata": {},
   "outputs": [],
   "source": [
    "def play2(opp, player):\n",
    "    opp = charmap[opp]\n",
    "    match opp:\n",
    "        case 'r':\n",
    "            match player:\n",
    "                case 'X':\n",
    "                    score = points['s']\n",
    "                case 'Y':\n",
    "                    score = points['r'] + 3\n",
    "                case 'Z':\n",
    "                    score = points['p'] + 6\n",
    "        case 'p':\n",
    "            match player:\n",
    "                case 'X':\n",
    "                    score = points['r']\n",
    "                case 'Y':\n",
    "                    score = points['p'] + 3\n",
    "                case 'Z':\n",
    "                    score = points['s'] + 6\n",
    "        case 's':\n",
    "            match player:\n",
    "                case 'X':\n",
    "                    score = points['p']\n",
    "                case 'Y':\n",
    "                    score = points['s'] + 3\n",
    "                case 'Z':\n",
    "                    score = points['r'] + 6\n",
    "    return score"
   ]
  },
  {
   "cell_type": "code",
   "execution_count": 30,
   "metadata": {},
   "outputs": [
    {
     "data": {
      "text/plain": [
       "13131"
      ]
     },
     "execution_count": 30,
     "metadata": {},
     "output_type": "execute_result"
    }
   ],
   "source": [
    "for p in plays:\n",
    "    tot_score += play2(p[0], p[1])\n",
    "tot_score"
   ]
  },
  {
   "cell_type": "code",
   "execution_count": null,
   "metadata": {},
   "outputs": [],
   "source": []
  }
 ],
 "metadata": {
  "kernelspec": {
   "display_name": "aoc",
   "language": "python",
   "name": "python3"
  },
  "language_info": {
   "codemirror_mode": {
    "name": "ipython",
    "version": 3
   },
   "file_extension": ".py",
   "mimetype": "text/x-python",
   "name": "python",
   "nbconvert_exporter": "python",
   "pygments_lexer": "ipython3",
   "version": "3.10.8"
  },
  "orig_nbformat": 4,
  "vscode": {
   "interpreter": {
    "hash": "271b2ffbb20ee5f82a4330be2b3e949b7f626019eb19c1caaa1959595d0322db"
   }
  }
 },
 "nbformat": 4,
 "nbformat_minor": 2
}
