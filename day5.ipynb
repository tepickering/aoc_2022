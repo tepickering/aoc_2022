{
 "cells": [
  {
   "cell_type": "code",
   "execution_count": 22,
   "metadata": {},
   "outputs": [],
   "source": [
    "from aocd import get_data\n",
    "import numpy as np\n",
    "import string\n",
    "from parse import parse"
   ]
  },
  {
   "cell_type": "code",
   "execution_count": 2,
   "metadata": {},
   "outputs": [],
   "source": [
    "data = get_data(day=5, year=2022)\n",
    "test = \"\"\"    [D]    \n",
    "[N] [C]    \n",
    "[Z] [M] [P]\n",
    " 1   2   3 \n",
    "\n",
    "move 1 from 2 to 1\n",
    "move 3 from 1 to 3\n",
    "move 2 from 2 to 1\n",
    "move 1 from 1 to 2\"\"\""
   ]
  },
  {
   "cell_type": "code",
   "execution_count": 24,
   "metadata": {},
   "outputs": [
    {
     "name": "stdout",
     "output_type": "stream",
     "text": [
      "    [D]    \n",
      "[N] [C]    \n",
      "[Z] [M] [P]\n",
      " 1   2   3 \n",
      "\n",
      "move 1 from 2 to 1\n",
      "move 3 from 1 to 3\n",
      "move 2 from 2 to 1\n",
      "move 1 from 1 to 2\n"
     ]
    }
   ],
   "source": [
    "print(test)"
   ]
  },
  {
   "cell_type": "code",
   "execution_count": 52,
   "metadata": {},
   "outputs": [
    {
     "name": "stdout",
     "output_type": "stream",
     "text": [
      "Number of stacks: 9\n"
     ]
    }
   ],
   "source": [
    "lines = data.split('\\n')\n",
    "#print(lines)\n",
    "len(lines[0])\n",
    "nstacks = int((len(lines[0]) + 1) / 4)\n",
    "print(f\"Number of stacks: {nstacks}\")\n"
   ]
  },
  {
   "cell_type": "code",
   "execution_count": 53,
   "metadata": {},
   "outputs": [
    {
     "data": {
      "text/plain": [
       "['', '', '', '[Q]', '', '[G]', '', '[M]', '']"
      ]
     },
     "execution_count": 53,
     "metadata": {},
     "output_type": "execute_result"
    }
   ],
   "source": [
    "s = lines[0]\n",
    "[s[0+i:4+i].strip() for i in range(0, len(s), 4)]"
   ]
  },
  {
   "cell_type": "code",
   "execution_count": 54,
   "metadata": {},
   "outputs": [],
   "source": [
    "parse_str = \"move {} from {} to {}\""
   ]
  },
  {
   "cell_type": "code",
   "execution_count": 55,
   "metadata": {},
   "outputs": [
    {
     "data": {
      "text/plain": [
       "{1: ['[R]', '[V]', '[W]', '[P]', '[M]', '[N]', '[G]', '[F]'],\n",
       " 2: ['[Q]',\n",
       "  '[B]',\n",
       "  '[S]',\n",
       "  '[N]',\n",
       "  '[M]',\n",
       "  '[C]',\n",
       "  '[Q]',\n",
       "  '[L]',\n",
       "  '[L]',\n",
       "  '[P]',\n",
       "  '[S]',\n",
       "  '[S]',\n",
       "  '[B]',\n",
       "  '[G]',\n",
       "  '[Z]',\n",
       "  '[Q]',\n",
       "  '[Z]'],\n",
       " 3: ['[Q]', '[Q]', '[T]', '[N]', '[F]', '[B]', '[C]'],\n",
       " 4: ['[M]'],\n",
       " 5: ['[J]'],\n",
       " 6: ['[Z]', '[D]', '[F]', '[C]'],\n",
       " 7: ['[L]',\n",
       "  '[G]',\n",
       "  '[Q]',\n",
       "  '[W]',\n",
       "  '[H]',\n",
       "  '[S]',\n",
       "  '[C]',\n",
       "  '[V]',\n",
       "  '[G]',\n",
       "  '[G]',\n",
       "  '[H]',\n",
       "  '[T]',\n",
       "  '[P]',\n",
       "  '[P]',\n",
       "  '[R]'],\n",
       " 8: ['[N]', '[H]'],\n",
       " 9: ['[Z]']}"
      ]
     },
     "execution_count": 55,
     "metadata": {},
     "output_type": "execute_result"
    }
   ],
   "source": [
    "stacks = {}\n",
    "for i in range(nstacks):\n",
    "    stacks[i+1] = []\n",
    "\n",
    "for l in lines:\n",
    "    if '[' in l:\n",
    "        crates = [l[0+i:4+i].strip() for i in range(0, len(l), 4)]\n",
    "        for i, c in enumerate(crates):\n",
    "            if len(c) > 0:\n",
    "                stacks[i+1].insert(0, c)\n",
    "    if 'move' in l:\n",
    "        cmds = parse(parse_str, l)\n",
    "        n, f, t = cmds[0], cmds[1], cmds[2]\n",
    "        for _ in range(int(n)):\n",
    "            crate = stacks[int(f)].pop()\n",
    "            stacks[int(t)].append(crate)\n",
    "stacks"
   ]
  },
  {
   "cell_type": "code",
   "execution_count": 56,
   "metadata": {},
   "outputs": [
    {
     "name": "stdout",
     "output_type": "stream",
     "text": [
      "[F]\n",
      "[Z]\n",
      "[C]\n",
      "[M]\n",
      "[J]\n",
      "[C]\n",
      "[R]\n",
      "[H]\n",
      "[Z]\n"
     ]
    }
   ],
   "source": [
    "for s in stacks:\n",
    "    print(stacks[s][-1])"
   ]
  },
  {
   "cell_type": "code",
   "execution_count": null,
   "metadata": {},
   "outputs": [],
   "source": []
  }
 ],
 "metadata": {
  "kernelspec": {
   "display_name": "aoc",
   "language": "python",
   "name": "python3"
  },
  "language_info": {
   "codemirror_mode": {
    "name": "ipython",
    "version": 3
   },
   "file_extension": ".py",
   "mimetype": "text/x-python",
   "name": "python",
   "nbconvert_exporter": "python",
   "pygments_lexer": "ipython3",
   "version": "3.10.8"
  },
  "orig_nbformat": 4,
  "vscode": {
   "interpreter": {
    "hash": "271b2ffbb20ee5f82a4330be2b3e949b7f626019eb19c1caaa1959595d0322db"
   }
  }
 },
 "nbformat": 4,
 "nbformat_minor": 2
}
