{
 "cells": [
  {
   "cell_type": "code",
   "execution_count": 22,
   "metadata": {},
   "outputs": [],
   "source": [
    "from aocd import get_data\n",
    "import numpy as np\n",
    "import string\n",
    "from parse import parse"
   ]
  },
  {
   "cell_type": "code",
   "execution_count": 2,
   "metadata": {},
   "outputs": [],
   "source": [
    "data = get_data(day=5, year=2022)\n",
    "test = \"\"\"    [D]    \n",
    "[N] [C]    \n",
    "[Z] [M] [P]\n",
    " 1   2   3 \n",
    "\n",
    "move 1 from 2 to 1\n",
    "move 3 from 1 to 3\n",
    "move 2 from 2 to 1\n",
    "move 1 from 1 to 2\"\"\""
   ]
  },
  {
   "cell_type": "code",
   "execution_count": 24,
   "metadata": {},
   "outputs": [
    {
     "name": "stdout",
     "output_type": "stream",
     "text": [
      "    [D]    \n",
      "[N] [C]    \n",
      "[Z] [M] [P]\n",
      " 1   2   3 \n",
      "\n",
      "move 1 from 2 to 1\n",
      "move 3 from 1 to 3\n",
      "move 2 from 2 to 1\n",
      "move 1 from 1 to 2\n"
     ]
    }
   ],
   "source": [
    "print(test)"
   ]
  },
  {
   "cell_type": "code",
   "execution_count": 62,
   "metadata": {},
   "outputs": [
    {
     "name": "stdout",
     "output_type": "stream",
     "text": [
      "Number of stacks: 9\n"
     ]
    }
   ],
   "source": [
    "lines = data.split('\\n')\n",
    "#print(lines)\n",
    "len(lines[0])\n",
    "nstacks = int((len(lines[0]) + 1) / 4)\n",
    "print(f\"Number of stacks: {nstacks}\")\n"
   ]
  },
  {
   "cell_type": "code",
   "execution_count": 63,
   "metadata": {},
   "outputs": [
    {
     "data": {
      "text/plain": [
       "['', '', '', '[Q]', '', '[G]', '', '[M]', '']"
      ]
     },
     "execution_count": 63,
     "metadata": {},
     "output_type": "execute_result"
    }
   ],
   "source": [
    "s = lines[0]\n",
    "[s[0+i:4+i].strip() for i in range(0, len(s), 4)]"
   ]
  },
  {
   "cell_type": "code",
   "execution_count": 64,
   "metadata": {},
   "outputs": [],
   "source": [
    "parse_str = \"move {} from {} to {}\""
   ]
  },
  {
   "cell_type": "code",
   "execution_count": 65,
   "metadata": {},
   "outputs": [],
   "source": [
    "stacks = {}\n",
    "for i in range(nstacks):\n",
    "    stacks[i+1] = []\n",
    "\n",
    "for l in lines:\n",
    "    if '[' in l:\n",
    "        crates = [l[0+i:4+i].strip() for i in range(0, len(l), 4)]\n",
    "        for i, c in enumerate(crates):\n",
    "            if len(c) > 0:\n",
    "                stacks[i+1].insert(0, c)\n",
    "    if 'move' in l:\n",
    "        cmds = parse(parse_str, l)\n",
    "        n, f, t = cmds[0], cmds[1], cmds[2]\n",
    "        cq = []\n",
    "        for _ in range(int(n)):\n",
    "            crate = stacks[int(f)].pop()\n",
    "            cq.append(crate)\n",
    "        cq.reverse()\n",
    "        stacks[int(t)] += cq\n",
    "#stacks"
   ]
  },
  {
   "cell_type": "code",
   "execution_count": 66,
   "metadata": {},
   "outputs": [
    {
     "name": "stdout",
     "output_type": "stream",
     "text": [
      "[J]\n",
      "[S]\n",
      "[D]\n",
      "[H]\n",
      "[Q]\n",
      "[M]\n",
      "[Z]\n",
      "[G]\n",
      "[F]\n"
     ]
    }
   ],
   "source": [
    "for s in stacks:\n",
    "    print(stacks[s][-1])"
   ]
  },
  {
   "attachments": {},
   "cell_type": "markdown",
   "metadata": {},
   "source": [
    "part 2"
   ]
  },
  {
   "cell_type": "code",
   "execution_count": null,
   "metadata": {},
   "outputs": [],
   "source": []
  }
 ],
 "metadata": {
  "kernelspec": {
   "display_name": "aoc",
   "language": "python",
   "name": "python3"
  },
  "language_info": {
   "codemirror_mode": {
    "name": "ipython",
    "version": 3
   },
   "file_extension": ".py",
   "mimetype": "text/x-python",
   "name": "python",
   "nbconvert_exporter": "python",
   "pygments_lexer": "ipython3",
   "version": "3.10.8"
  },
  "orig_nbformat": 4,
  "vscode": {
   "interpreter": {
    "hash": "271b2ffbb20ee5f82a4330be2b3e949b7f626019eb19c1caaa1959595d0322db"
   }
  }
 },
 "nbformat": 4,
 "nbformat_minor": 2
}
